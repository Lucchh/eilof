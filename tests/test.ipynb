{
 "cells": [
  {
   "cell_type": "code",
   "execution_count": 37,
   "metadata": {},
   "outputs": [
    {
     "ename": "ModuleNotFoundError",
     "evalue": "No module named 'eilof'",
     "output_type": "error",
     "traceback": [
      "\u001b[0;31m---------------------------------------------------------------------------\u001b[0m",
      "\u001b[0;31mModuleNotFoundError\u001b[0m                       Traceback (most recent call last)",
      "Cell \u001b[0;32mIn[37], line 2\u001b[0m\n\u001b[1;32m      1\u001b[0m \u001b[38;5;28;01mimport\u001b[39;00m \u001b[38;5;21;01mnumpy\u001b[39;00m \u001b[38;5;28;01mas\u001b[39;00m \u001b[38;5;21;01mnp\u001b[39;00m\n\u001b[0;32m----> 2\u001b[0m \u001b[38;5;28;01mfrom\u001b[39;00m \u001b[38;5;21;01meilof\u001b[39;00m \u001b[38;5;28;01mimport\u001b[39;00m EILOF\n\u001b[1;32m      4\u001b[0m \u001b[38;5;28;01mimport\u001b[39;00m \u001b[38;5;21;01mkagglehub\u001b[39;00m\n\u001b[1;32m      5\u001b[0m \u001b[38;5;28;01mimport\u001b[39;00m \u001b[38;5;21;01mos\u001b[39;00m\n",
      "\u001b[0;31mModuleNotFoundError\u001b[0m: No module named 'eilof'"
     ]
    }
   ],
   "source": [
    "import numpy as np\n",
    "from eilof import EILOF\n",
    "\n",
    "import kagglehub\n",
    "import os\n",
    "\n",
    "# Download latest version\n",
    "path = kagglehub.dataset_download(\"mlg-ulb/creditcardfraud\")\n",
    "import pandas as pd\n",
    "\n",
    "# Assuming a CSV file is in the dataset directory\n",
    "csv_file = os.path.join(path, \"creditcard.csv\")  # Replace with the actual file name\n",
    "data = pd.read_csv(csv_file)\n",
    "\n",
    "# Display the first few rows of the dataset\n",
    "data.head()\n",
    "import pandas as pd\n",
    "\n",
    "# Step 1: Identify outliers and non-outliers\n",
    "outliers = data[data['Class'] == 1]\n",
    "non_outliers = data[data['Class'] == 0]\n",
    "\n",
    "# Step 2: Calculate the number of non-outliers required\n",
    "n_outliers = len(outliers)  # Total number of outliers\n",
    "required_total = n_outliers / 0.05  # Total rows needed for 5% outliers\n",
    "required_non_outliers = int(required_total - n_outliers)\n",
    "\n",
    "# Step 3: Randomly sample the required number of non-outliers\n",
    "non_outliers_sampled = non_outliers.sample(n=required_non_outliers, random_state=42)\n",
    "\n",
    "# Step 4: Combine outliers and sampled non-outliers\n",
    "subset = pd.concat([outliers, non_outliers_sampled])\n",
    "\n",
    "# Step 5: Maintain time-series order\n",
    "subset = subset.sort_index()\n",
    "\n",
    "# Step 6: Verify the outlier ratio\n",
    "actual_outlier_ratio = len(subset[subset['Class'] == 1]) / len(subset)\n",
    "print(f\"Outlier Ratio in Subset: {actual_outlier_ratio:.2%}\")\n",
    "# Display the subset\n",
    "subset.head()\n",
    "\n",
    "from sklearn.preprocessing import StandardScaler\n",
    "data = subset.drop(columns=['Class'])\n",
    "label = subset[\"Class\"]\n",
    "\n",
    "# Initialize selected and unselected datasets\n",
    "selected_data = data[:1000].reset_index(drop=True).values\n",
    "selected_labels = label[:1000].reset_index(drop=True).values\n",
    "unselected_data = data[1000:2280].reset_index(drop=True).values\n",
    "unselected_labels = label[1000:2280].reset_index(drop=True).values\n",
    "scaler = StandardScaler()\n",
    "selected_data = scaler.fit_transform(selected_data)\n",
    "scaler = StandardScaler()\n",
    "unselected_data = scaler.fit_transform(unselected_data)\n",
    "data = selected_data\n",
    "new_point = unselected_data[:100]\n",
    "\n",
    "\n",
    "\n",
    "# Step 1: Test Initialization\n",
    "model = EILOF(k=100)\n",
    "print(\"Model initialized with k =\", model.k)\n",
    "\n",
    "# Step 2: Test Fitting the Model\n",
    "model.fit(data)\n",
    "# print(\"Model fitted. Local Reachability Densities (LRDs):\")\n",
    "print(model.lrd)\n",
    "\n",
    "lof_scores = model.update(new_point)\n",
    "print(\"After updating with a new point:\")\n",
    "print(\"Updated LOF Scores:\", lof_scores)\n",
    "lof_label = model.predict_labels(threshold=95)\n",
    "print(\"Predicted Labels:\", lof_label)\n",
    "lof_label_ref = model.predict_reference_labels(threshold=95)"
   ]
  },
  {
   "cell_type": "code",
   "execution_count": 38,
   "metadata": {},
   "outputs": [
    {
     "ename": "ModuleNotFoundError",
     "evalue": "No module named 'eilof'",
     "output_type": "error",
     "traceback": [
      "\u001b[0;31m---------------------------------------------------------------------------\u001b[0m",
      "\u001b[0;31mModuleNotFoundError\u001b[0m                       Traceback (most recent call last)",
      "Cell \u001b[0;32mIn[38], line 1\u001b[0m\n\u001b[0;32m----> 1\u001b[0m \u001b[38;5;28;01mfrom\u001b[39;00m \u001b[38;5;21;01meilof\u001b[39;00m \u001b[38;5;28;01mimport\u001b[39;00m EILOF\n",
      "\u001b[0;31mModuleNotFoundError\u001b[0m: No module named 'eilof'"
     ]
    }
   ],
   "source": [
    "from eilof import EILOF"
   ]
  },
  {
   "cell_type": "code",
   "execution_count": null,
   "metadata": {},
   "outputs": [
    {
     "ename": "ModuleNotFoundError",
     "evalue": "No module named 'eilof'",
     "output_type": "error",
     "traceback": [
      "\u001b[0;31m---------------------------------------------------------------------------\u001b[0m\n",
      "\u001b[0;31mModuleNotFoundError\u001b[0m                       Traceback (most recent call last)\n",
      "Cell \u001b[0;32mIn[23], line 1\u001b[0m\n",
      "\u001b[0;32m----> 1\u001b[0m \u001b[38;5;28;01mfrom\u001b[39;00m \u001b[38;5;21;01meilof\u001b[39;00m \u001b[38;5;28;01mimport\u001b[39;00m EILOF\n",
      "\n",
      "\u001b[0;31mModuleNotFoundError\u001b[0m: No module named 'eilof'"
     ]
    }
   ],
   "source": [
    "from eilof import EILOF"
   ]
  },
  {
   "cell_type": "code",
   "execution_count": 302,
   "metadata": {},
   "outputs": [
    {
     "data": {
      "text/plain": [
       "<module 'eilof_model' from '/Users/lucchen/Desktop/Research/Rui Hu Research/code/eilof_model.py'>"
      ]
     },
     "execution_count": 302,
     "metadata": {},
     "output_type": "execute_result"
    }
   ],
   "source": [
    "import importlib\n",
    "import eilof_model\n",
    "importlib.reload(eilof_model)  # Reload the module to ensure the latest changes are loaded"
   ]
  },
  {
   "cell_type": "code",
   "execution_count": 311,
   "metadata": {},
   "outputs": [
    {
     "data": {
      "text/plain": [
       "1640"
      ]
     },
     "execution_count": 311,
     "metadata": {},
     "output_type": "execute_result"
    }
   ],
   "source": [
    "len(lof_label)"
   ]
  },
  {
   "cell_type": "code",
   "execution_count": 310,
   "metadata": {},
   "outputs": [
    {
     "data": {
      "text/plain": [
       "(array([  38,  187,  229,  271,  296,  303,  338,  359,  367,  368,  408,\n",
       "         429,  441,  523,  524,  525,  530,  532,  533,  534,  537,  539,\n",
       "         548,  549,  550,  553,  593,  607,  614,  616,  619,  622,  625,\n",
       "         667,  689,  709,  716,  758,  792,  814,  929,  973,  975,  976,\n",
       "        1061, 1090, 1131, 1145, 1146, 1165, 1180, 1220, 1376, 1408, 1417,\n",
       "        1424, 1430, 1433, 1439, 1440, 1448, 1453, 1454, 1455, 1457, 1464,\n",
       "        1466, 1467, 1473, 1474, 1476, 1490, 1538, 1547, 1551, 1570, 1598,\n",
       "        1605, 1612, 1618, 1631, 1639]),)"
      ]
     },
     "execution_count": 310,
     "metadata": {},
     "output_type": "execute_result"
    }
   ],
   "source": [
    "np.where(lof_label == 1)"
   ]
  },
  {
   "cell_type": "code",
   "execution_count": 305,
   "metadata": {},
   "outputs": [
    {
     "data": {
      "text/plain": [
       "array([ 3.81784284,  3.83697034,  5.50669073,  3.86879517,  4.45658341,\n",
       "        5.93126974,  4.63088738,  4.74671854,  7.09340564,  5.09033494,\n",
       "        4.33774325,  4.74072875,  6.33925448,  4.97477502,  4.06552046,\n",
       "        4.23822354,  4.15029217,  4.75015531,  3.9883058 ,  5.23198265,\n",
       "        5.51201891,  4.7570251 ,  4.20118478,  6.46905633,  6.82430391,\n",
       "        5.3570753 ,  4.10004201,  4.20934922,  3.83391443,  5.5946725 ,\n",
       "        4.6964351 ,  3.91864394,  4.72303188,  4.21782798,  6.36903628,\n",
       "        4.47218371,  4.87699927,  5.24948783, 10.27521262,  3.90519981,\n",
       "        4.28953987,  5.06529856,  4.02736101,  5.28406291,  4.34394416,\n",
       "        4.9498604 ,  4.27836323,  4.37852981,  4.4391965 ,  5.55138493,\n",
       "        4.30334008,  4.59781351,  4.76203527,  3.91433191,  4.66970893,\n",
       "        4.4290676 ,  4.46475769,  4.27424701,  5.0044454 ,  4.92557395,\n",
       "        4.49029848,  6.22450461,  3.93193661,  4.66063281,  6.88602653,\n",
       "        5.4470938 ,  3.97530309,  8.6962159 ,  4.06217648,  4.83447408,\n",
       "        6.46296353,  4.99254243,  3.94882871,  4.29052179,  4.29680522,\n",
       "        4.68771016,  4.92156434,  5.96569622,  4.65810059,  5.29851821,\n",
       "        3.93327209,  3.65483886,  4.75332377,  4.78928962,  4.0850943 ,\n",
       "        6.21498426,  4.99923356,  3.63096832,  4.56593082,  5.3174429 ,\n",
       "        4.37349637,  3.51026151,  4.57457318,  6.06459084,  4.6513256 ,\n",
       "        4.97441864,  4.04752607,  4.27387793,  3.96424401,  5.02716559])"
      ]
     },
     "execution_count": 305,
     "metadata": {},
     "output_type": "execute_result"
    }
   ],
   "source": [
    "model.reachability_dist[950,:][:100]"
   ]
  },
  {
   "cell_type": "code",
   "execution_count": 306,
   "metadata": {},
   "outputs": [
    {
     "data": {
      "text/plain": [
       "array([0.51422958, 0.54170277, 0.39604118, 0.55183793, 0.49486841,\n",
       "       0.3055532 , 0.53985157, 0.41045333, 0.33230398, 0.32584787,\n",
       "       0.55051528, 0.42833131, 0.299409  , 0.4878497 , 0.55624744,\n",
       "       0.5239078 , 0.42049253, 0.46374274, 0.59217108, 0.3645607 ,\n",
       "       0.55047515, 0.40888352, 0.37545118, 0.42580109, 0.30083663,\n",
       "       0.27389164, 0.56113204, 0.48674517, 0.57609704, 0.50564818,\n",
       "       0.54921866, 0.55611345, 0.48282379, 0.47019015, 0.2330555 ,\n",
       "       0.45276866, 0.63675979, 0.43553993, 0.11132921, 0.70755574,\n",
       "       0.51660117, 0.41768972, 0.49426889, 0.32158   , 0.44535357,\n",
       "       0.33494861, 0.56997886, 0.46019826, 0.50791096, 0.2650753 ,\n",
       "       0.5027742 , 0.52522797, 0.50200798, 0.43512282, 0.46795054,\n",
       "       0.45370218, 0.49081056, 0.5243414 , 0.42481446, 0.4333999 ,\n",
       "       0.45071249, 0.1955265 , 0.63974958, 0.41419193, 0.29302368,\n",
       "       0.40010568, 0.4291889 , 0.12506368, 0.47930441, 0.44670247,\n",
       "       0.34517443, 0.31058942, 0.58117835, 0.63234615, 0.44810695,\n",
       "       0.43816976, 0.42401868, 0.24522221, 0.45527529, 0.35045534,\n",
       "       0.58936268, 0.5358706 , 0.39999396, 0.46821485, 0.52005131,\n",
       "       0.33661435, 0.43587052, 0.69385731, 0.35164017, 0.21895547,\n",
       "       0.44091134, 0.81543471, 0.38249475, 0.43656716, 0.46208717,\n",
       "       0.53719381, 0.43796259, 0.59472917, 0.5054916 , 0.49249742])"
      ]
     },
     "execution_count": 306,
     "metadata": {},
     "output_type": "execute_result"
    }
   ],
   "source": [
    "model.lrd[:100]"
   ]
  },
  {
   "cell_type": "code",
   "execution_count": 307,
   "metadata": {},
   "outputs": [
    {
     "data": {
      "text/plain": [
       "array([1.400425  , 1.13966714, 1.24397304, 1.5041029 , 1.29364264,\n",
       "       1.40296478, 1.08773364, 2.34863216, 1.13576879, 1.14608337,\n",
       "       1.24150706, 4.67435497, 1.2138693 , 1.7093196 , 1.17397419,\n",
       "       1.79376143, 1.42622079, 1.16523481, 1.25649832, 2.07124047,\n",
       "       1.21727789, 1.41004517, 1.18892615, 2.02230649, 1.11328487,\n",
       "       1.42459016, 1.21430622, 1.16034723, 1.36737277, 1.43415458,\n",
       "       2.40228612, 1.22463961, 1.15366018, 1.15195153, 1.47706015,\n",
       "       1.35930437, 1.11323473, 1.2251417 , 1.16436816, 1.14211077,\n",
       "       1.16223469, 1.19041084, 1.52195622, 1.52561907, 1.34014728,\n",
       "       1.41608042, 1.46619076, 2.08734249, 1.27997216, 1.27838434,\n",
       "       1.22355524, 1.2774883 , 1.23385889, 1.43895994, 1.11412185,\n",
       "       1.44265194, 1.11288123, 1.19131615, 2.7070071 , 1.15695077,\n",
       "       1.19699242, 1.16182905, 1.28085324, 1.12416447, 1.2607771 ,\n",
       "       3.08015073, 1.2354842 , 1.21407425, 1.117251  , 1.24446932,\n",
       "       1.26377199, 1.14804105, 2.23719947, 1.11382972, 1.36097564,\n",
       "       1.22775117, 1.4413137 , 1.25353592, 2.71696256, 1.14724369,\n",
       "       1.19113338, 1.47661769, 1.26332257, 1.26533493, 1.16397243,\n",
       "       1.23534037, 1.27072325, 1.18013072, 1.52994529, 1.15156268,\n",
       "       1.17960861, 2.37839778, 1.47203119, 1.18120871, 1.18292216,\n",
       "       1.27778904, 1.40512903, 1.12968419, 1.49579876, 2.38888895])"
      ]
     },
     "execution_count": 307,
     "metadata": {},
     "output_type": "execute_result"
    }
   ],
   "source": [
    "model.lof_scores[-100:]"
   ]
  },
  {
   "cell_type": "code",
   "execution_count": null,
   "metadata": {},
   "outputs": [],
   "source": []
  },
  {
   "cell_type": "code",
   "execution_count": null,
   "metadata": {},
   "outputs": [],
   "source": []
  }
 ],
 "metadata": {
  "kernelspec": {
   "display_name": "eilof.test",
   "language": "python",
   "name": "python3"
  },
  "language_info": {
   "codemirror_mode": {
    "name": "ipython",
    "version": 3
   },
   "file_extension": ".py",
   "mimetype": "text/x-python",
   "name": "python",
   "nbconvert_exporter": "python",
   "pygments_lexer": "ipython3",
   "version": "3.9.21"
  }
 },
 "nbformat": 4,
 "nbformat_minor": 2
}
